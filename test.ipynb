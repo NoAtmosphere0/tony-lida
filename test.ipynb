{
 "cells": [
  {
   "cell_type": "code",
   "execution_count": 22,
   "metadata": {},
   "outputs": [],
   "source": [
    "import pandas as pd\n",
    "import numpy as np\n",
    "import logging\n",
    "import re\n",
    "import matplotlib.pyplot as plt\n",
    "\n",
    "logger = logging.getLogger(\"lida\")"
   ]
  },
  {
   "cell_type": "code",
   "execution_count": 12,
   "metadata": {},
   "outputs": [],
   "source": [
    "def file_to_df(file_location: str):\n",
    "    \"\"\" Get summary of data from file location \"\"\"\n",
    "    file_name = file_location.split(\"/\")[-1]\n",
    "    df = None\n",
    "    if \"csv\" in file_name:\n",
    "        df = pd.read_csv(file_location)\n",
    "    elif \"xlsx\" in file_name:\n",
    "        df = pd.read_excel(file_location)\n",
    "    elif \"json\" in file_name:\n",
    "        df = pd.read_json(file_location, orient=\"records\")\n",
    "    elif \"parquet\" in file_name:\n",
    "        df = pd.read_parquet(file_location)\n",
    "    elif \"feather\" in file_name:\n",
    "        df = pd.read_feather(file_location)\n",
    "\n",
    "    return df\n",
    "\n",
    "\n",
    "def clean_column_name(col_name: str) -> str:\n",
    "    \"\"\"\n",
    "    Clean a single column name by replacing special characters and spaces with underscores.\n",
    "\n",
    "    :param col_name: The name of the column to be cleaned.\n",
    "    :return: A sanitized string valid as a column name.\n",
    "    \"\"\"\n",
    "    return re.sub(r'[^0-9a-zA-Z_]', '_', col_name)\n",
    "\n",
    "\n",
    "def clean_column_names(df: pd.DataFrame) -> pd.DataFrame:\n",
    "    \"\"\"\n",
    "    Clean all column names in the given DataFrame.\n",
    "\n",
    "    :param df: The DataFrame with possibly dirty column names.\n",
    "    :return: A copy of the DataFrame with clean column names.\n",
    "    \"\"\"\n",
    "    cleaned_df = df.copy()\n",
    "    cleaned_df.columns = [clean_column_name(col) for col in cleaned_df.columns]\n",
    "    return cleaned_df\n",
    "\n",
    "\n",
    "def read_dataframe(file_location: str, encoding: str = 'utf-8') -> pd.DataFrame:\n",
    "    \"\"\"\n",
    "    Read a dataframe from a given file location and clean its column names.\n",
    "    It also samples down to 4500 rows if the data exceeds that limit.\n",
    "\n",
    "    :param file_location: The path to the file containing the data.\n",
    "    :param encoding: Encoding to use for the file reading.\n",
    "    :return: A cleaned DataFrame.\n",
    "    \"\"\"\n",
    "    file_extension = file_location.split('.')[-1]\n",
    "\n",
    "    read_funcs = {\n",
    "        'json': lambda: pd.read_json(file_location, orient='records', encoding=encoding),\n",
    "        'csv': lambda: pd.read_csv(file_location, encoding=encoding),\n",
    "        'xls': lambda: pd.read_excel(file_location, encoding=encoding),\n",
    "        'xlsx': lambda: pd.read_excel(file_location, encoding=encoding),\n",
    "        'parquet': pd.read_parquet,\n",
    "        'feather': pd.read_feather,\n",
    "        'tsv': lambda: pd.read_csv(file_location, sep=\"\\t\", encoding=encoding)\n",
    "    }\n",
    "\n",
    "    if file_extension not in read_funcs:\n",
    "        raise ValueError('Unsupported file type')\n",
    "\n",
    "    try:\n",
    "        df = read_funcs[file_extension]()\n",
    "    except Exception as e:\n",
    "        logger.error(f\"Failed to read file: {file_location}. Error: {e}\")\n",
    "        raise\n",
    "\n",
    "    # Clean column names\n",
    "    cleaned_df = clean_column_names(df)\n",
    "\n",
    "    # Sample down to 4500 rows if necessary\n",
    "    # if len(cleaned_df) > 4500:\n",
    "    #     logger.info(\n",
    "    #         \"Dataframe has more than 4500 rows. We will sample 4500 rows.\")\n",
    "    #     cleaned_df = cleaned_df.sample(4500)\n",
    "\n",
    "    if cleaned_df.columns.tolist() != df.columns.tolist():\n",
    "        write_funcs = {\n",
    "            'csv': lambda: cleaned_df.to_csv(file_location, index=False, encoding=encoding),\n",
    "            'xls': lambda: cleaned_df.to_excel(file_location, index=False),\n",
    "            'xlsx': lambda: cleaned_df.to_excel(file_location, index=False),\n",
    "            'parquet': lambda: cleaned_df.to_parquet(file_location, index=False),\n",
    "            'feather': lambda: cleaned_df.to_feather(file_location, index=False),\n",
    "            'json': lambda: cleaned_df.to_json(file_location, orient='records', index=False, default_handler=str),\n",
    "            'tsv': lambda: cleaned_df.to_csv(file_location, index=False, sep='\\t', encoding=encoding)\n",
    "        }\n",
    "\n",
    "        if file_extension not in write_funcs:\n",
    "            raise ValueError('Unsupported file type')\n",
    "\n",
    "        try:\n",
    "            write_funcs[file_extension]()\n",
    "        except Exception as e:\n",
    "            logger.error(f\"Failed to write file: {file_location}. Error: {e}\")\n",
    "            raise\n",
    "\n",
    "    return cleaned_df"
   ]
  },
  {
   "cell_type": "code",
   "execution_count": 13,
   "metadata": {},
   "outputs": [
    {
     "data": {
      "text/plain": [
       "['PassengerId',\n",
       " 'Survived',\n",
       " 'Pclass',\n",
       " 'Name',\n",
       " 'Sex',\n",
       " 'Age',\n",
       " 'SibSp',\n",
       " 'Parch',\n",
       " 'Ticket',\n",
       " 'Fare',\n",
       " 'Cabin',\n",
       " 'Embarked']"
      ]
     },
     "execution_count": 13,
     "metadata": {},
     "output_type": "execute_result"
    }
   ],
   "source": [
    "file_path = \"C:/Long/Coding/Kaggle/Titanic/titanic/train.csv\"\n",
    "\n",
    "df = read_dataframe(file_path)\n",
    "\n",
    "columns_names = df.columns.tolist()\n",
    "columns_names"
   ]
  },
  {
   "cell_type": "code",
   "execution_count": 19,
   "metadata": {},
   "outputs": [],
   "source": [
    "def get_column_stats(df, column_name):\n",
    "  \"\"\"\n",
    "  This function calculates various statistics for a given column in a DataFrame.\n",
    "\n",
    "  Args:\n",
    "      df (pandas.DataFrame): The DataFrame containing the column.\n",
    "      column_name (str): The name of the column to analyze.\n",
    "\n",
    "  Returns:\n",
    "      dict: A dictionary containing the following keys:\n",
    "          valid (int): Number of valid (non-null) values.\n",
    "          mismatched (int): Number of values that don't match a specific criteria (optional).\n",
    "          missing (int): Number of missing values (NaN).\n",
    "          mean (float): Mean of the valid values.\n",
    "          std (float): Standard deviation of the valid values.\n",
    "  \"\"\"\n",
    "  # Count valid, missing, and total values\n",
    "  valid_count = df[column_name].notnull().sum()\n",
    "  missing_count = df[column_name].isnull().sum()\n",
    "  total_count = len(df)\n",
    "\n",
    "  # Calculate mean and standard deviation (excluding missing values)\n",
    "  mean = round(df[column_name].dropna().mean(), 1) if valid_count > 0 else None\n",
    "  std = round(df[column_name].dropna().std(), 1) if valid_count > 0 else None\n",
    "\n",
    "  # Add mismatched count if specific criteria is provided (optional)\n",
    "  mismatched_count = 0  # Initialize to 0\n",
    "\n",
    "  # Replace with your logic to identify mismatched values\n",
    "  # For example:\n",
    "  # if pd.api.types.is_numeric_dtype(df[column_name]):\n",
    "  #     mismatched_count = (df[column_name] < specific_value).sum()\n",
    "\n",
    "  # Create the dictionary with statistics\n",
    "  stats = {\n",
    "      \"valid\": valid_count,\n",
    "      \"missing\": missing_count,\n",
    "      \"mean\": mean,\n",
    "      \"std\": std,\n",
    "  }\n",
    "\n",
    "  # Add mismatched count if calculated\n",
    "  if mismatched_count > 0:\n",
    "    stats[\"mismatched\"] = mismatched_count\n",
    "\n",
    "  return stats\n"
   ]
  },
  {
   "cell_type": "code",
   "execution_count": 20,
   "metadata": {},
   "outputs": [
    {
     "data": {
      "text/plain": [
       "{'valid': 714, 'missing': 177, 'mean': 29.7, 'std': 14.5}"
      ]
     },
     "execution_count": 20,
     "metadata": {},
     "output_type": "execute_result"
    }
   ],
   "source": [
    "get_column_stats(df, \"Age\")"
   ]
  },
  {
   "cell_type": "code",
   "execution_count": 25,
   "metadata": {},
   "outputs": [
    {
     "data": {
      "text/plain": [
       "(array([ 54.,  46., 177., 169., 118.,  70.,  45.,  24.,   9.,   2.]),\n",
       " array([ 0.42 ,  8.378, 16.336, 24.294, 32.252, 40.21 , 48.168, 56.126,\n",
       "        64.084, 72.042, 80.   ]),\n",
       " <BarContainer object of 10 artists>)"
      ]
     },
     "execution_count": 25,
     "metadata": {},
     "output_type": "execute_result"
    },
    {
     "data": {
      "image/png": "[encoded data removed]",
      "text/plain": [
       "<Figure size 640x480 with 1 Axes>"
      ]
     },
     "metadata": {},
     "output_type": "display_data"
    }
   ],
   "source": [
    "plt.hist(df[\"Age\"], edgecolor=\"white\")"
   ]
  },
  {
   "cell_type": "code",
   "execution_count": null,
   "metadata": {},
   "outputs": [],
   "source": [
    "!pip install plotly"
   ]
  }
 ],
 "metadata": {
  "kernelspec": {
   "display_name": "venv",
   "language": "python",
   "name": "python3"
  },
  "language_info": {
   "codemirror_mode": {
    "name": "ipython",
    "version": 3
   },
   "file_extension": ".py",
   "mimetype": "text/x-python",
   "name": "python",
   "nbconvert_exporter": "python",
   "pygments_lexer": "ipython3",
   "version": "3.10.8"
  }
 },
 "nbformat": 4,
 "nbformat_minor": 2
}
